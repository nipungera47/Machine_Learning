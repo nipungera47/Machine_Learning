{
 "metadata": {
  "language_info": {
   "codemirror_mode": {
    "name": "ipython",
    "version": 3
   },
   "file_extension": ".py",
   "mimetype": "text/x-python",
   "name": "python",
   "nbconvert_exporter": "python",
   "pygments_lexer": "ipython3",
   "version": "3.8.0"
  },
  "orig_nbformat": 4,
  "kernelspec": {
   "name": "python3",
   "display_name": "Python 3.8.0 64-bit"
  },
  "interpreter": {
   "hash": "5d97ad4eda96f4e0dcd5ae4f97368654619500468c6147550d2a1b2a1881f9a5"
  }
 },
 "nbformat": 4,
 "nbformat_minor": 2,
 "cells": [
  {
   "cell_type": "code",
   "execution_count": 24,
   "metadata": {
    "tags": []
   },
   "outputs": [
    {
     "output_type": "stream",
     "name": "stdout",
     "text": [
      "48321.0\n935737.0\n"
     ]
    }
   ],
   "source": [
    "import numpy as np\n",
    "import csv\n",
    "file_obj = open('Dataset/terrorismData.csv',encoding='utf-8')\n",
    "data = csv.DictReader(file_obj, skipinitialspace=True)\n",
    "\n",
    "killed =  []\n",
    "wounded = []\n",
    "country = []\n",
    "\n",
    "for row in data:\n",
    "    # print(row['Killed'])\n",
    "    killed.append(row['Killed'])\n",
    "    wounded.append(row['Wounded'])\n",
    "    country.append(row['Country'])\n",
    "\n",
    "\n",
    "np_killed = np.array(killed)\n",
    "np_wounded = np.array(wounded)\n",
    "\n",
    "np_killed[np_killed == ''] = '0.0'\n",
    "np_wounded[np_wounded == ''] = '0.0'\n",
    "\n",
    "np_killed = np.array(np_killed,dtype=float)\n",
    "np_wounded = np.array(np_wounded,dtype=float)\n",
    "\n",
    "killed_wounded = np_killed + np_wounded\n",
    "# print(killed_wounded)\n",
    "np_country = np.array(country)\n",
    "bool_array = np_country == 'India'\n",
    "ans = killed_wounded[bool_array]\n",
    "print(np.sum(ans))\n",
    "print(np.sum(killed_wounded))\n"
   ]
  },
  {
   "cell_type": "code",
   "execution_count": 29,
   "metadata": {},
   "outputs": [
    {
     "output_type": "error",
     "ename": "TypeError",
     "evalue": "only integer scalar arrays can be converted to a scalar index",
     "traceback": [
      "\u001b[1;31m---------------------------------------------------------------------------\u001b[0m",
      "\u001b[1;31mTypeError\u001b[0m                                 Traceback (most recent call last)",
      "\u001b[1;32m<ipython-input-29-30a962edcb2a>\u001b[0m in \u001b[0;36m<module>\u001b[1;34m\u001b[0m\n\u001b[0;32m     28\u001b[0m \u001b[0mnp_country\u001b[0m \u001b[1;33m=\u001b[0m \u001b[0mnp\u001b[0m\u001b[1;33m.\u001b[0m\u001b[0marray\u001b[0m\u001b[1;33m(\u001b[0m\u001b[0mcountry\u001b[0m\u001b[1;33m)\u001b[0m\u001b[1;33m\u001b[0m\u001b[1;33m\u001b[0m\u001b[0m\n\u001b[0;32m     29\u001b[0m \u001b[0mbool_array\u001b[0m \u001b[1;33m=\u001b[0m \u001b[0mnp_country\u001b[0m \u001b[1;33m==\u001b[0m \u001b[1;34m'United States'\u001b[0m\u001b[1;33m\u001b[0m\u001b[1;33m\u001b[0m\u001b[0m\n\u001b[1;32m---> 30\u001b[1;33m \u001b[0mans\u001b[0m \u001b[1;33m=\u001b[0m \u001b[0mkilled\u001b[0m\u001b[1;33m[\u001b[0m\u001b[0mbool_array\u001b[0m\u001b[1;33m]\u001b[0m\u001b[1;33m\u001b[0m\u001b[1;33m\u001b[0m\u001b[0m\n\u001b[0m\u001b[0;32m     31\u001b[0m \u001b[0mprint\u001b[0m\u001b[1;33m(\u001b[0m\u001b[0mnp\u001b[0m\u001b[1;33m.\u001b[0m\u001b[0msum\u001b[0m\u001b[1;33m(\u001b[0m\u001b[0mans\u001b[0m\u001b[1;33m)\u001b[0m\u001b[1;33m)\u001b[0m\u001b[1;33m\u001b[0m\u001b[1;33m\u001b[0m\u001b[0m\n\u001b[0;32m     32\u001b[0m \u001b[1;31m# print(np.sum(killed_wounded))\u001b[0m\u001b[1;33m\u001b[0m\u001b[1;33m\u001b[0m\u001b[1;33m\u001b[0m\u001b[0m\n",
      "\u001b[1;31mTypeError\u001b[0m: only integer scalar arrays can be converted to a scalar index"
     ]
    }
   ],
   "source": [
    "import numpy as np\n",
    "import csv\n",
    "file_obj = open('Dataset/terrorismData.csv',encoding='utf-8')\n",
    "data = csv.DictReader(file_obj, skipinitialspace=True)\n",
    "\n",
    "killed =  []\n",
    "wounded = []\n",
    "country = []\n",
    "\n",
    "for row in data:\n",
    "    # print(row['Killed'])\n",
    "    killed.append(row['Killed'])\n",
    "    # wounded.append(row['Wounded'])\n",
    "    country.append(row['Country'])\n",
    "\n",
    "\n",
    "np_killed = np.array(killed)\n",
    "# np_wounded = np.array(wounded)\n",
    "\n",
    "np_killed[np_killed == ''] = '0.0'\n",
    "# np_wounded[np_wounded == ''] = '0.0'\n",
    "\n",
    "np_killed = np.array(np_killed,dtype=float)\n",
    "# np_wounded = np.array(np_wounded,dtype=float)\n",
    "\n",
    "# killed_wounded = np_killed + np_wounded\n",
    "# print(killed_wounded)\n",
    "np_country = np.array(country)\n",
    "bool_array = np_country == 'United States'\n",
    "ans = killed[bool_array]\n",
    "print(np.sum(ans))\n",
    "# print(np.sum(killed_wounded))\n"
   ]
  },
  {
   "cell_type": "code",
   "execution_count": null,
   "metadata": {},
   "outputs": [],
   "source": []
  }
 ]
}